{
 "cells": [
  {
   "cell_type": "markdown",
   "metadata": {},
   "source": [
    "# Лабораторная работа №1. \n",
    "\n",
    "## Тема работы: «Поисковые алгоритмы для решения головоломки \"Сокобан\"»\n",
    "\n",
    "## Цели работы\n",
    "\n",
    "1. Ознакомление с синтаксисом и основными операциями языка Python.\n",
    "2. Изучение и разработка поискового алгоритма для решения головоломки \"Сокобан\".\n",
    "\n",
    "## Пояснения к работе\n",
    "\n",
    "### Необходимый минимум информации о языке Python\n",
    "\n",
    "Языком дисциплины является Python – один из самых распространённых в мире языков программирования.\n",
    "Плюсами языка являются:\n",
    "- относительная лёгкость освоения;\n",
    "- обширная стандартная библиотека и огромная база сторонних библиотек;\n",
    "- мультпарадигменность;\n",
    "- распространённость в научном сообществе.\n",
    "\n",
    "Для научно-исследовательских задач рекомендуется установить [платформу Anaconda](https://www.continuum.io/downloads).\n",
    "\n",
    "#### Основы синтаксиса\n",
    "\n",
    "Python отличается от большинства языков программирования одной интересной особенностью: в нём вложенные блоки кода выделяются не ключевыми словами (begin/end в Pascal) и не специальными символами (*{* и *}* в C/C++), а равными отступами.\n",
    "Такой подход даёт коду программы хорошо узнаваемый аккуратный вид и добавляет лаконичности.\n",
    "За исключением этой детали большинство конструкций Python покажутся знакомыми любому, кто имел дело с современными высокоуровневыми языками.\n",
    "\n",
    "**Объявление переменных**\n",
    "```python\n",
    "a = 5             # целочисленная переменная\n",
    "b = 3.14          # переменная с плавающей точкой\n",
    "c = \"String-42\"   # строковая переменная\n",
    "```\n",
    "\n",
    "### Головоломка \"Сокобан\"\n",
    "\n",
    "### Поисковые алгоритмы\n",
    "\n",
    "## Ход работы\n",
    "\n",
    "## Содержание отчета\n",
    "\n",
    "## Контрольные вопросы\n",
    "\n",
    "## Литература"
   ]
  },
  {
   "cell_type": "code",
   "execution_count": null,
   "metadata": {
    "collapsed": true
   },
   "outputs": [],
   "source": []
  }
 ],
 "metadata": {
  "anaconda-cloud": {},
  "kernelspec": {
   "display_name": "Python [Root]",
   "language": "python",
   "name": "Python [Root]"
  },
  "language_info": {
   "codemirror_mode": {
    "name": "ipython",
    "version": 3
   },
   "file_extension": ".py",
   "mimetype": "text/x-python",
   "name": "python",
   "nbconvert_exporter": "python",
   "pygments_lexer": "ipython3",
   "version": "3.5.2"
  },
  "nbpresent": {
   "slides": {},
   "themes": {
    "default": "11574f17-18df-4b49-be95-0030f6d3e952",
    "theme": {
     "11574f17-18df-4b49-be95-0030f6d3e952": {
      "backgrounds": {
       "backgroundColor": {
        "background-color": "backgroundColor",
        "id": "backgroundColor"
       }
      },
      "id": "11574f17-18df-4b49-be95-0030f6d3e952",
      "palette": {
       "backgroundColor": {
        "id": "backgroundColor",
        "rgb": [
         256,
         256,
         256
        ]
       },
       "headingColor": {
        "id": "headingColor",
        "rgb": [
         0,
         0,
         0
        ]
       },
       "linkColor": {
        "id": "linkColor",
        "rgb": [
         0,
         0,
         139
        ]
       },
       "mainColor": {
        "id": "mainColor",
        "rgb": [
         0,
         0,
         0
        ]
       }
      },
      "rules": {
       "a": {
        "color": "linkColor"
       },
       "h1": {
        "color": "headingColor",
        "font-family": "News Cycle",
        "font-size": 7
       },
       "h2": {
        "color": "headingColor",
        "font-family": "News Cycle",
        "font-size": 5
       },
       "h3": {
        "color": "headingColor",
        "font-family": "News Cycle",
        "font-size": 3.75
       },
       "h4": {
        "color": "headingColor",
        "font-family": "News Cycle",
        "font-size": 3
       },
       "h5": {
        "color": "headingColor",
        "font-family": "News Cycle"
       },
       "h6": {
        "color": "headingColor",
        "font-family": "News Cycle"
       },
       "h7": {
        "color": "headingColor",
        "font-family": "News Cycle"
       },
       "li": {
        "color": "mainColor",
        "font-family": "Lato",
        "font-size": 5
       },
       "p": {
        "color": "mainColor",
        "font-family": "Lato",
        "font-size": 5
       }
      },
      "text-base": {
       "color": "mainColor",
       "font-family": "Lato",
       "font-size": 5
      }
     },
     "2590b761-edb8-4df5-b8b3-71f54c075fe3": {
      "backgrounds": {
       "backgroundColor": {
        "background-color": "backgroundColor",
        "id": "backgroundColor"
       }
      },
      "id": "2590b761-edb8-4df5-b8b3-71f54c075fe3",
      "palette": {
       "backgroundColor": {
        "id": "backgroundColor",
        "rgb": [
         34,
         34,
         34
        ]
       },
       "headingColor": {
        "id": "headingColor",
        "rgb": [
         256,
         256,
         256
        ]
       },
       "linkColor": {
        "id": "linkColor",
        "rgb": [
         66,
         175,
         250
        ]
       },
       "mainColor": {
        "id": "mainColor",
        "rgb": [
         256,
         256,
         256
        ]
       }
      },
      "rules": {
       "a": {
        "color": "linkColor"
       },
       "h1": {
        "color": "headingColor",
        "font-family": "Source Sans Pro",
        "font-size": 5.25
       },
       "h2": {
        "color": "headingColor",
        "font-family": "Source Sans Pro",
        "font-size": 4
       },
       "h3": {
        "color": "headingColor",
        "font-family": "Source Sans Pro",
        "font-size": 3.5
       },
       "h4": {
        "color": "headingColor",
        "font-family": "Source Sans Pro",
        "font-size": 3
       },
       "h5": {
        "color": "headingColor",
        "font-family": "Source Sans Pro"
       },
       "h6": {
        "color": "headingColor",
        "font-family": "Source Sans Pro"
       },
       "h7": {
        "color": "headingColor",
        "font-family": "Source Sans Pro"
       },
       "li": {
        "color": "mainColor",
        "font-family": "Source Sans Pro",
        "font-size": 6
       },
       "p": {
        "color": "mainColor",
        "font-family": "Source Sans Pro",
        "font-size": 6
       }
      },
      "text-base": {
       "color": "mainColor",
       "font-family": "Source Sans Pro",
       "font-size": 6
      }
     }
    }
   }
  }
 },
 "nbformat": 4,
 "nbformat_minor": 0
}
