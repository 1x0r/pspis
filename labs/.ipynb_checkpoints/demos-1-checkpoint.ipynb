{
 "cells": [
  {
   "cell_type": "code",
   "execution_count": 20,
   "metadata": {
    "collapsed": false
   },
   "outputs": [
    {
     "name": "stdout",
     "output_type": "stream",
     "text": [
      "Набор данных для обучения (2D NumPy Array): \n",
      " [[  0.   0.   5. ...,   0.   0.   0.]\n",
      " [  0.   0.   0. ...,  10.   0.   0.]\n",
      " [  0.   0.   0. ...,  16.   9.   0.]\n",
      " ..., \n",
      " [  0.   0.   1. ...,   6.   0.   0.]\n",
      " [  0.   0.   2. ...,  12.   0.   0.]\n",
      " [  0.   0.  10. ...,  12.   1.   0.]] \n",
      "\n",
      "Набор целей для данных (1D NumPy Array): \n",
      " [0 1 2 ..., 8 9 8]\n"
     ]
    }
   ],
   "source": [
    "from sklearn import datasets\n",
    "digits = datasets.load_digits()\n",
    "print(\"Набор данных для обучения (2D NumPy Array): \\n\", digits.data, '\\n')\n",
    "print(\"Набор целей для данных (1D NumPy Array): \\n\", digits.target)"
   ]
  },
  {
   "cell_type": "code",
   "execution_count": 21,
   "metadata": {
    "collapsed": false
   },
   "outputs": [
    {
     "name": "stdout",
     "output_type": "stream",
     "text": [
      "Форма массива данных для обучения: \n",
      " (1797, 64)\n",
      "Форма массива целей: \n",
      " (1797,)\n"
     ]
    }
   ],
   "source": [
    "print(\"Форма массива данных для обучения: \\n\", digits.data.shape)\n",
    "print(\"Форма массива целей: \\n\", digits.target.shape)"
   ]
  },
  {
   "cell_type": "markdown",
   "metadata": {},
   "source": [
    "** Какую задачу можно поставить для этого набора данных? **"
   ]
  },
  {
   "cell_type": "code",
   "execution_count": 2,
   "metadata": {
    "collapsed": false
   },
   "outputs": [
    {
     "name": "stdout",
     "output_type": "stream",
     "text": [
      "Каждая цифра представлена матрицей формы  (64,)\n"
     ]
    }
   ],
   "source": [
    "%matplotlib inline\n",
    "import matplotlib.pyplot as plt\n",
    "n = 19\n",
    "print(\"Каждая цифра представлена матрицей формы \", digits.data[n, :].shape)"
   ]
  },
  {
   "cell_type": "markdown",
   "metadata": {},
   "source": [
    "Чтобы отобразить её на экране, нужно применить метод _reshape_. Целевая форма &mdash; $8 \\times 8$.\n"
   ]
  },
  {
   "cell_type": "code",
   "execution_count": 3,
   "metadata": {
    "collapsed": false
   },
   "outputs": [
    {
     "data": {
      "image/png": "[encoded data removed]",
      "text/plain": [
       "<matplotlib.figure.Figure at 0x7f12af365630>"
      ]
     },
     "metadata": {},
     "output_type": "display_data"
    }
   ],
   "source": [
    "digit = 255 - digits.data[n, :].reshape(8, 8)\n",
    "plt.imshow(digit, cmap='gray', interpolation='none')\n",
    "plt.title(\"This is \" + str(digits.target[n]))\n",
    "plt.show()"
   ]
  },
  {
   "cell_type": "markdown",
   "metadata": {},
   "source": [
    "Возьмем один из методов прошлой лекции. Например, метод классификации, основанный на деревьях (CART)."
   ]
  },
  {
   "cell_type": "code",
   "execution_count": 4,
   "metadata": {
    "collapsed": true
   },
   "outputs": [],
   "source": [
    "from sklearn.tree import DecisionTreeClassifier"
   ]
  },
  {
   "cell_type": "markdown",
   "metadata": {},
   "source": [
    "Почти у всех классов, отвечающих за методы классификации в **scikit-learn**, есть следующие методы:\n",
    "- _fit_ &mdash; обучение модели;\n",
    "- _predict_ &mdash; классификация примера обученным классификатором;\n",
    "- _score_ &mdash;оценка качества классификации в соответствии с некоторым критерием.\n",
    "\n",
    "Чтобы создать дерево-классификатор, достаточно создать объект класса _DecisionTreeClassifier_"
   ]
  },
  {
   "cell_type": "code",
   "execution_count": 24,
   "metadata": {
    "collapsed": true
   },
   "outputs": [],
   "source": [
    "clf = DecisionTreeClassifier(random_state=0)"
   ]
  },
  {
   "cell_type": "markdown",
   "metadata": {},
   "source": [
    "Обучим классификатор на всех цифрах, кроме последних 10."
   ]
  },
  {
   "cell_type": "code",
   "execution_count": 25,
   "metadata": {
    "collapsed": false
   },
   "outputs": [
    {
     "data": {
      "text/plain": [
       "DecisionTreeClassifier(class_weight=None, criterion='gini', max_depth=None,\n",
       "            max_features=None, max_leaf_nodes=None,\n",
       "            min_impurity_split=1e-07, min_samples_leaf=1,\n",
       "            min_samples_split=2, min_weight_fraction_leaf=0.0,\n",
       "            presort=False, random_state=0, splitter='best')"
      ]
     },
     "execution_count": 25,
     "metadata": {},
     "output_type": "execute_result"
    }
   ],
   "source": [
    "clf.fit(digits.data[:-10], digits.target[:-10])"
   ]
  },
  {
   "cell_type": "markdown",
   "metadata": {},
   "source": [
    "Теперь попробуем классифицировать оставшиеся 10 картинок."
   ]
  },
  {
   "cell_type": "code",
   "execution_count": 26,
   "metadata": {
    "collapsed": false
   },
   "outputs": [
    {
     "name": "stdout",
     "output_type": "stream",
     "text": [
      "Классификатор предсказал число 8, на самом деле это 8. Числа совпали.\n",
      "Классификатор предсказал число 9, на самом деле это 9. Числа совпали.\n",
      "Классификатор предсказал число 8, на самом деле это 8. Числа совпали.\n",
      "Классификатор предсказал число 0, на самом деле это 0. Числа совпали.\n",
      "Классификатор предсказал число 9, на самом деле это 9. Числа совпали.\n",
      "Классификатор предсказал число 4, на самом деле это 4. Числа совпали.\n",
      "Классификатор предсказал число 1, на самом деле это 8. Числа не совпали.\n",
      "Классификатор предсказал число 3, на самом деле это 8. Числа не совпали.\n",
      "Классификатор предсказал число 4, на самом деле это 4. Числа совпали.\n",
      "Классификатор предсказал число 3, на самом деле это 5. Числа не совпали.\n"
     ]
    }
   ],
   "source": [
    "errors = 0\n",
    "for i in range(1, 11):\n",
    "    k = clf.predict(digits.data[-i].reshape(1, -1))\n",
    "    print(\"Классификатор предсказал число {}, на самом деле это {}. Числа {}совпали.\"\n",
    "          .format(k[0], digits.target[-i], \n",
    "                  \"\" if k[0] == digits.target[-i] else \"не \"))\n",
    "    \n",
    "    if k[0] != digits.target[-i]:\n",
    "        errors += 1"
   ]
  },
  {
   "cell_type": "markdown",
   "metadata": {},
   "source": [
    "Давайте посмотрим на \"проблемные\" числа:"
   ]
  },
  {
   "cell_type": "code",
   "execution_count": 29,
   "metadata": {
    "collapsed": false
   },
   "outputs": [
    {
     "data": {
      "image/png": "[encoded data removed]",
      "text/plain": [
       "<matplotlib.figure.Figure at 0x7f12aabf1cf8>"
      ]
     },
     "metadata": {},
     "output_type": "display_data"
    }
   ],
   "source": [
    "fig = plt.figure(figsize=(12, 4))\n",
    "frame = 1\n",
    "for i in range(1, 11):\n",
    "    k = clf.predict(digits.data[-i].reshape(1, -1))\n",
    "    if k[0] != digits.target[-i]:\n",
    "        digit = 255 - digits.data[-i, :].reshape(8, 8)\n",
    "        \n",
    "        ax = fig.add_subplot(1, errors, frame)        \n",
    "        ax.imshow(digit, cmap='gray', interpolation='none')\n",
    "        ax.set_title(\"This is {}, recognized as {}\".format(digits.target[-i], k[0]))\n",
    "        frame += 1"
   ]
  },
  {
   "cell_type": "markdown",
   "metadata": {},
   "source": [
    "Можно согласиться, что по крайней мере в двух из этих чисел могут ошибиться и люди."
   ]
  }
 ],
 "metadata": {
  "kernelspec": {
   "display_name": "Python 3",
   "language": "python",
   "name": "python3"
  },
  "language_info": {
   "codemirror_mode": {
    "name": "ipython",
    "version": 3
   },
   "file_extension": ".py",
   "mimetype": "text/x-python",
   "name": "python",
   "nbconvert_exporter": "python",
   "pygments_lexer": "ipython3",
   "version": "3.5.2"
  }
 },
 "nbformat": 4,
 "nbformat_minor": 1
}
