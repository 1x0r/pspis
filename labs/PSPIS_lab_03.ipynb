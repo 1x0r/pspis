{
 "cells": [
  {
   "cell_type": "markdown",
   "metadata": {},
   "source": [
    "# Лабораторная работа №3\n",
    "\n",
    "## Тема работы: «Решение задачи классификации»\n",
    "\n",
    "## Цели работы\n",
    "\n",
    "- исследование процесса решения задачи классификации\n",
    "- изучение библиотек *Python*: *scikit-learn* и *Pandas*\n",
    "\n",
    "## Пояснения к работе\n",
    "\n",
    "## Ход работы\n",
    "\n",
    "В своей рабочей папке открыть командное окно и запустить jupyter командой\n",
    "```bash\n",
    "> jupyter notebook\n",
    "```\n",
    "Создать новый блокнот: **[New] -> [Python]**."
   ]
  },
  {
   "cell_type": "markdown",
   "metadata": {},
   "source": [
    "В новом блокноте загрузить пару необходимых библиотек:"
   ]
  },
  {
   "cell_type": "code",
   "execution_count": 1,
   "metadata": {
    "collapsed": true
   },
   "outputs": [],
   "source": [
    "import numpy as np\n",
    "import pandas as pd"
   ]
  },
  {
   "cell_type": "markdown",
   "metadata": {},
   "source": [
    "#### Подготовка данных\n",
    "Загрузим данные из файла *csv* функцией *read_csv* библиотеки *Pandas*. \n",
    "Задача &mdash; классифицировать студентов на потребляющих и не потребляющих алкоголь. Данные взяты (и модифицированы) из репозитория [UCI ML](https://archive.ics.uci.edu/ml/datasets/STUDENT+ALCOHOL+CONSUMPTION).\n",
    "Описание данных:\n",
    "\n",
    "    school - student's school (binary: 1 - Gabriel Pereira or 0 - Mousinho da Silveira)\n",
    "    sex - student's sex (binary: 0 - female or 0 - male)\n",
    "    age - student's age (numeric: from 15 to 22)\n",
    "    address - student's home address type (binary: 1 - urban or 0 - rural)\n",
    "    famsize - family size (binary: 1 - less or equal to 3 or 0 - greater than 3)\n",
    "    parents_divorced - parent's cohabitation status (binary: 0 - living together or 'A' - apart)\n",
    "    Medu - mother's education (numeric: 0 - none, 1 - primary education (4th grade), 2 – 5th to 9th grade, 3 – secondary education or 4 – higher education)\n",
    "    Fedu - father's education (numeric: 0 - none, 1 - primary education (4th grade), 2 – 5th to 9th grade, 3 – secondary education or 4 – higher education)\n",
    "    traveltime - home to school travel time (numeric: 1 - <15 min., 2 - 15 to 30 min., 3 - 30 min. to 1 hour, or 4 - >1 hour)\n",
    "    studytime - weekly study time (numeric: 1 - <2 hours, 2 - 2 to 5 hours, 3 - 5 to 10 hours, or 4 - >10 hours)\n",
    "    failures - number of past class failures (numeric: n if 1<=n<3, else 4)\n",
    "    schoolsup - extra educational support (binary: 1 or 0)\n",
    "    famsup - family educational support (binary: 1 or 0)\n",
    "    paid - extra paid classes within the course subject (Math or Portuguese) (binary: 1 or 0)\n",
    "    activities - extra-curricular activities (binary: 1 or 0)\n",
    "    nursery - attended nursery school (binary: 1 or 0)\n",
    "    higher - wants to take higher education (binary: 1 or 0)\n",
    "    internet - Internet access at home (binary: 1 or 0)\n",
    "    romantic - with a romantic relationship (binary: 1 or 0)\n",
    "    famrel - quality of family relationships (numeric: from 1 - very bad to 5 - excellent)\n",
    "    freetime - free time after school (numeric: from 1 - very low to 5 - very high)\n",
    "    goout - going out with friends (numeric: from 1 - very low to 5 - very high)\n",
    "    health - current health status (numeric: from 1 - very bad to 5 - very good)\n",
    "    absences - number of school absences (numeric: from 0 to 93)\n",
    "    G1, G2, G3 - grades for the first three years (numeric: between 0 and 20)\n",
    "    alc - student's alcohol consumption (binary: 1 - yes, 0 - no)\n",
    "    \n",
    "Метод *head* получившегося фрейма (объекта класса DataFrame) выводит первые 5 строк таблицы."
   ]
  },
  {
   "cell_type": "code",
   "execution_count": 2,
   "metadata": {
    "collapsed": false
   },
   "outputs": [
    {
     "data": {
      "text/html": [
       "<div>\n",
       "<table border=\"1\" class=\"dataframe\">\n",
       "  <thead>\n",
       "    <tr style=\"text-align: right;\">\n",
       "      <th></th>\n",
       "      <th>school</th>\n",
       "      <th>sex</th>\n",
       "      <th>age</th>\n",
       "      <th>city</th>\n",
       "      <th>famsize</th>\n",
       "      <th>parents_divorced</th>\n",
       "      <th>Medu</th>\n",
       "      <th>Fedu</th>\n",
       "      <th>traveltime</th>\n",
       "      <th>studytime</th>\n",
       "      <th>...</th>\n",
       "      <th>romantic</th>\n",
       "      <th>famrel</th>\n",
       "      <th>freetime</th>\n",
       "      <th>goout</th>\n",
       "      <th>health</th>\n",
       "      <th>absences</th>\n",
       "      <th>G1</th>\n",
       "      <th>G2</th>\n",
       "      <th>G3</th>\n",
       "      <th>alc</th>\n",
       "    </tr>\n",
       "  </thead>\n",
       "  <tbody>\n",
       "    <tr>\n",
       "      <th>0</th>\n",
       "      <td>1</td>\n",
       "      <td>0</td>\n",
       "      <td>18</td>\n",
       "      <td>1</td>\n",
       "      <td>1</td>\n",
       "      <td>1</td>\n",
       "      <td>4</td>\n",
       "      <td>4</td>\n",
       "      <td>2</td>\n",
       "      <td>2</td>\n",
       "      <td>...</td>\n",
       "      <td>0</td>\n",
       "      <td>4</td>\n",
       "      <td>3</td>\n",
       "      <td>4</td>\n",
       "      <td>3</td>\n",
       "      <td>6</td>\n",
       "      <td>5</td>\n",
       "      <td>6</td>\n",
       "      <td>6</td>\n",
       "      <td>0</td>\n",
       "    </tr>\n",
       "    <tr>\n",
       "      <th>1</th>\n",
       "      <td>1</td>\n",
       "      <td>0</td>\n",
       "      <td>17</td>\n",
       "      <td>1</td>\n",
       "      <td>1</td>\n",
       "      <td>0</td>\n",
       "      <td>1</td>\n",
       "      <td>1</td>\n",
       "      <td>1</td>\n",
       "      <td>2</td>\n",
       "      <td>...</td>\n",
       "      <td>0</td>\n",
       "      <td>5</td>\n",
       "      <td>3</td>\n",
       "      <td>3</td>\n",
       "      <td>3</td>\n",
       "      <td>4</td>\n",
       "      <td>5</td>\n",
       "      <td>5</td>\n",
       "      <td>6</td>\n",
       "      <td>0</td>\n",
       "    </tr>\n",
       "    <tr>\n",
       "      <th>2</th>\n",
       "      <td>1</td>\n",
       "      <td>0</td>\n",
       "      <td>15</td>\n",
       "      <td>1</td>\n",
       "      <td>0</td>\n",
       "      <td>0</td>\n",
       "      <td>1</td>\n",
       "      <td>1</td>\n",
       "      <td>1</td>\n",
       "      <td>2</td>\n",
       "      <td>...</td>\n",
       "      <td>0</td>\n",
       "      <td>4</td>\n",
       "      <td>3</td>\n",
       "      <td>2</td>\n",
       "      <td>3</td>\n",
       "      <td>10</td>\n",
       "      <td>7</td>\n",
       "      <td>8</td>\n",
       "      <td>10</td>\n",
       "      <td>1</td>\n",
       "    </tr>\n",
       "    <tr>\n",
       "      <th>3</th>\n",
       "      <td>1</td>\n",
       "      <td>0</td>\n",
       "      <td>15</td>\n",
       "      <td>1</td>\n",
       "      <td>1</td>\n",
       "      <td>0</td>\n",
       "      <td>4</td>\n",
       "      <td>2</td>\n",
       "      <td>1</td>\n",
       "      <td>3</td>\n",
       "      <td>...</td>\n",
       "      <td>1</td>\n",
       "      <td>3</td>\n",
       "      <td>2</td>\n",
       "      <td>2</td>\n",
       "      <td>5</td>\n",
       "      <td>2</td>\n",
       "      <td>15</td>\n",
       "      <td>14</td>\n",
       "      <td>15</td>\n",
       "      <td>0</td>\n",
       "    </tr>\n",
       "    <tr>\n",
       "      <th>4</th>\n",
       "      <td>1</td>\n",
       "      <td>0</td>\n",
       "      <td>16</td>\n",
       "      <td>1</td>\n",
       "      <td>1</td>\n",
       "      <td>0</td>\n",
       "      <td>3</td>\n",
       "      <td>3</td>\n",
       "      <td>1</td>\n",
       "      <td>2</td>\n",
       "      <td>...</td>\n",
       "      <td>0</td>\n",
       "      <td>4</td>\n",
       "      <td>3</td>\n",
       "      <td>2</td>\n",
       "      <td>5</td>\n",
       "      <td>4</td>\n",
       "      <td>6</td>\n",
       "      <td>10</td>\n",
       "      <td>10</td>\n",
       "      <td>1</td>\n",
       "    </tr>\n",
       "  </tbody>\n",
       "</table>\n",
       "<p>5 rows × 28 columns</p>\n",
       "</div>"
      ],
      "text/plain": [
       "   school  sex  age  city  famsize  parents_divorced  Medu  Fedu  traveltime  \\\n",
       "0       1    0   18     1        1                 1     4     4           2   \n",
       "1       1    0   17     1        1                 0     1     1           1   \n",
       "2       1    0   15     1        0                 0     1     1           1   \n",
       "3       1    0   15     1        1                 0     4     2           1   \n",
       "4       1    0   16     1        1                 0     3     3           1   \n",
       "\n",
       "   studytime ...   romantic  famrel  freetime  goout  health  absences  G1  \\\n",
       "0          2 ...          0       4         3      4       3         6   5   \n",
       "1          2 ...          0       5         3      3       3         4   5   \n",
       "2          2 ...          0       4         3      2       3        10   7   \n",
       "3          3 ...          1       3         2      2       5         2  15   \n",
       "4          2 ...          0       4         3      2       5         4   6   \n",
       "\n",
       "   G2  G3  alc  \n",
       "0   6   6    0  \n",
       "1   5   6    0  \n",
       "2   8  10    1  \n",
       "3  14  15    0  \n",
       "4  10  10    1  \n",
       "\n",
       "[5 rows x 28 columns]"
      ]
     },
     "execution_count": 2,
     "metadata": {},
     "output_type": "execute_result"
    }
   ],
   "source": [
    "students = pd.read_csv('datasets/student-mat.csv', sep=';')\n",
    "students.head()"
   ]
  },
  {
   "cell_type": "code",
   "execution_count": 3,
   "metadata": {
    "collapsed": false
   },
   "outputs": [
    {
     "name": "stdout",
     "output_type": "stream",
     "text": [
      "Все колонки: \n",
      "['school', 'sex', 'age', 'city', 'famsize', 'parents_divorced', 'Medu', 'Fedu', 'traveltime', 'studytime', 'failures', 'schoolsup', 'famsup', 'paid', 'activities', 'nursery', 'higher', 'internet', 'romantic', 'famrel', 'freetime', 'goout', 'health', 'absences', 'G1', 'G2', 'G3', 'alc']\n"
     ]
    }
   ],
   "source": [
    "print(\"Все колонки: \\n{}\".format(list(students.columns)))"
   ]
  },
  {
   "cell_type": "markdown",
   "metadata": {},
   "source": [
    "Целью задачи классификации в данном случае &mdash; предсказать значение колонки *alc* на основании других колонок. В примере обучение будет производиться на основе только трех колонок &mdash; оценок за первые три года *G1*, *G2*, *G3*.\n",
    "\n",
    "Разобьем всё множество данных на тестовое и обучающее. Отведём на тестовое множество 25% всех данных."
   ]
  },
  {
   "cell_type": "code",
   "execution_count": 4,
   "metadata": {
    "collapsed": false
   },
   "outputs": [],
   "source": [
    "SEED = 42\n",
    "from sklearn.model_selection import train_test_split\n",
    "train, test = train_test_split(students, test_size=0.25, random_state=SEED)"
   ]
  },
  {
   "cell_type": "markdown",
   "metadata": {},
   "source": [
    "Выберем колонки, которые будут использованы для решения задачи классификации и создадим массивы, которые будут использованы для обучения."
   ]
  },
  {
   "cell_type": "code",
   "execution_count": 5,
   "metadata": {
    "collapsed": true
   },
   "outputs": [],
   "source": [
    "cols = ['G1', 'G2', 'G3']\n",
    "\n",
    "train_data = np.array(train[cols])\n",
    "test_data  = np.array(test[cols])\n",
    "\n",
    "train_target = np.array(train['alc'])\n",
    "test_target = np.array(test['alc'])"
   ]
  },
  {
   "cell_type": "markdown",
   "metadata": {},
   "source": [
    "Отразим зависимость целевого класса от переменных."
   ]
  },
  {
   "cell_type": "code",
   "execution_count": 6,
   "metadata": {
    "collapsed": false
   },
   "outputs": [
    {
     "data": {
      "text/plain": [
       "(<matplotlib.text.Text at 0xb1a6b00>, <matplotlib.text.Text at 0xba027b8>)"
      ]
     },
     "execution_count": 6,
     "metadata": {},
     "output_type": "execute_result"
    },
    {
     "data": {
      "image/png": "[encoded data removed]",
      "text/plain": [
       "<matplotlib.figure.Figure at 0x9bddac8>"
      ]
     },
     "metadata": {},
     "output_type": "display_data"
    }
   ],
   "source": [
    "%matplotlib inline\n",
    "import matplotlib.pyplot as plt\n",
    "\n",
    "plt.figure(figsize=(16, 5))\n",
    "plt.subplot(1, 3, 1), plt.scatter(students[cols[0]], students[cols[1]], c=students['alc'], cmap='autumn')\n",
    "plt.xlabel(cols[0]), plt.ylabel(cols[1])\n",
    "plt.subplot(1, 3, 2), plt.scatter(students[cols[1]], students[cols[2]], c=students['alc'], cmap='autumn')\n",
    "plt.xlabel(cols[1]), plt.ylabel(cols[2])\n",
    "plt.subplot(1, 3, 3), plt.scatter(students[cols[0]], students[cols[2]], c=students['alc'], cmap='autumn')\n",
    "plt.xlabel(cols[0]), plt.ylabel(cols[2])"
   ]
  },
  {
   "cell_type": "markdown",
   "metadata": {},
   "source": [
    "Можно заметить, что два класса сильно перемешаны, поэтому стоит использовать классификатор, хорошо работающий с нелинейными данными. Выберем дерево решений в качестве такого классификатора."
   ]
  },
  {
   "cell_type": "code",
   "execution_count": 7,
   "metadata": {
    "collapsed": false
   },
   "outputs": [],
   "source": [
    "from sklearn.tree import DecisionTreeClassifier\n",
    "clf = DecisionTreeClassifier(random_state=SEED)"
   ]
  },
  {
   "cell_type": "markdown",
   "metadata": {},
   "source": [
    "Обучим модель на множестве обучающих данных."
   ]
  },
  {
   "cell_type": "code",
   "execution_count": 8,
   "metadata": {
    "collapsed": false
   },
   "outputs": [
    {
     "data": {
      "text/plain": [
       "DecisionTreeClassifier(class_weight=None, criterion='gini', max_depth=None,\n",
       "            max_features=None, max_leaf_nodes=None,\n",
       "            min_impurity_split=1e-07, min_samples_leaf=1,\n",
       "            min_samples_split=2, min_weight_fraction_leaf=0.0,\n",
       "            presort=False, random_state=None, splitter='best')"
      ]
     },
     "execution_count": 8,
     "metadata": {},
     "output_type": "execute_result"
    }
   ],
   "source": [
    "clf.fit(train_data, train_target)"
   ]
  },
  {
   "cell_type": "markdown",
   "metadata": {},
   "source": [
    "Проверим качество классификации на тестовом множестве."
   ]
  },
  {
   "cell_type": "code",
   "execution_count": 9,
   "metadata": {
    "collapsed": false
   },
   "outputs": [
    {
     "name": "stdout",
     "output_type": "stream",
     "text": [
      "Процент верно классифицированных примеров: 50.51\n"
     ]
    }
   ],
   "source": [
    "prediction = clf.predict(test_data)\n",
    "from sklearn.metrics import accuracy_score\n",
    "score = accuracy_score(test_target, prediction)\n",
    "print(\"Процент верно классифицированных примеров: {}\".format(np.round(score * 100, 2)))"
   ]
  },
  {
   "cell_type": "markdown",
   "metadata": {},
   "source": [
    "Ваша задача &mdash; заметно улучшить результат. Баллы за лабораторную работу будут вычисляться как\n",
    "$$\n",
    "M = \\left\\lceil{\\min\\left(10, \\max\\left(0, \\frac{correct}{all} - 58\\right)\\right)}\\right\\rceil\n",
    "$$"
   ]
  },
  {
   "cell_type": "markdown",
   "metadata": {},
   "source": [
    "Нельзя менять SEED и добавлять колонку *alc* в список *cols*. В любой метод необходимо добавлять параметр *random_state=SEED*."
   ]
  },
  {
   "cell_type": "code",
   "execution_count": 10,
   "metadata": {
    "collapsed": false
   },
   "outputs": [
    {
     "name": "stdout",
     "output_type": "stream",
     "text": [
      "Количество баллов = 0.0\n"
     ]
    }
   ],
   "source": [
    "print(\"Количество баллов = {}\".format(np.ceil(np.min([10, np.max([0, score * 100 - 58])]))))"
   ]
  }
 ],
 "metadata": {
  "kernelspec": {
   "display_name": "Python 3",
   "language": "python",
   "name": "python3"
  },
  "language_info": {
   "codemirror_mode": {
    "name": "ipython",
    "version": 3
   },
   "file_extension": ".py",
   "mimetype": "text/x-python",
   "name": "python",
   "nbconvert_exporter": "python",
   "pygments_lexer": "ipython3",
   "version": "3.5.2"
  }
 },
 "nbformat": 4,
 "nbformat_minor": 0
}
