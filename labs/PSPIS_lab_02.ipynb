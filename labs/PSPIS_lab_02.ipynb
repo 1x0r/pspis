{
 "cells": [
  {
   "cell_type": "markdown",
   "metadata": {},
   "source": [
    "# Лабораторная работа №2\n",
    "\n",
    "## Тема работы: «Решение задачи регрессии методом CART»\n",
    "\n",
    "## Цели работы\n",
    "\n",
    "- исследование процесса решения задачи регрессии\n",
    "- изучение библиотек *Python*: *scikit-learn* и *Pandas*\n",
    "\n",
    "## Пояснения к работе\n",
    "\n",
    "## Ход работы\n",
    "\n",
    "В своей рабочей папке открыть командное окно и запустить jupyter командой\n",
    "```bash\n",
    "> jupyter notebook\n",
    "```\n",
    "Создать новый блокнот: **[New] -> [Python 3]**."
   ]
  },
  {
   "cell_type": "markdown",
   "metadata": {},
   "source": [
    "В новом блокноте загрузить пару необходимых библиотек:"
   ]
  },
  {
   "cell_type": "code",
   "execution_count": 1,
   "metadata": {
    "collapsed": true
   },
   "outputs": [],
   "source": [
    "import numpy as np\n",
    "import pandas as pd"
   ]
  },
  {
   "cell_type": "markdown",
   "metadata": {},
   "source": [
    "#### Подготовка данных\n",
    "Загрузим данные из файла *csv* функцией *read_csv* библиотеки *Pandas*. \n",
    "Из всей базы рейтингов университетов нас интересует только 2015 год. \n",
    "Выберем только строки, соответствующие этому году.\n",
    "Метод *head* получившегося фрейма (объекта класса DataFrame) выводит первые 5 строк таблицы."
   ]
  },
  {
   "cell_type": "code",
   "execution_count": 2,
   "metadata": {
    "collapsed": false
   },
   "outputs": [
    {
     "data": {
      "text/html": [
       "<div>\n",
       "<table border=\"1\" class=\"dataframe\">\n",
       "  <thead>\n",
       "    <tr style=\"text-align: right;\">\n",
       "      <th></th>\n",
       "      <th>world_rank</th>\n",
       "      <th>university_name</th>\n",
       "      <th>national_rank</th>\n",
       "      <th>total_score</th>\n",
       "      <th>alumni</th>\n",
       "      <th>award</th>\n",
       "      <th>hici</th>\n",
       "      <th>ns</th>\n",
       "      <th>pub</th>\n",
       "      <th>pcp</th>\n",
       "      <th>year</th>\n",
       "    </tr>\n",
       "  </thead>\n",
       "  <tbody>\n",
       "    <tr>\n",
       "      <th>4397</th>\n",
       "      <td>1</td>\n",
       "      <td>Harvard University</td>\n",
       "      <td>1</td>\n",
       "      <td>100.0</td>\n",
       "      <td>100.0</td>\n",
       "      <td>100.0</td>\n",
       "      <td>100.0</td>\n",
       "      <td>100.0</td>\n",
       "      <td>100.0</td>\n",
       "      <td>76.6</td>\n",
       "      <td>2015</td>\n",
       "    </tr>\n",
       "    <tr>\n",
       "      <th>4398</th>\n",
       "      <td>2</td>\n",
       "      <td>Stanford University</td>\n",
       "      <td>2</td>\n",
       "      <td>73.3</td>\n",
       "      <td>40.7</td>\n",
       "      <td>89.6</td>\n",
       "      <td>80.1</td>\n",
       "      <td>70.1</td>\n",
       "      <td>70.6</td>\n",
       "      <td>53.8</td>\n",
       "      <td>2015</td>\n",
       "    </tr>\n",
       "    <tr>\n",
       "      <th>4399</th>\n",
       "      <td>3</td>\n",
       "      <td>Massachusetts Institute of Technology (MIT)</td>\n",
       "      <td>3</td>\n",
       "      <td>70.4</td>\n",
       "      <td>68.2</td>\n",
       "      <td>80.7</td>\n",
       "      <td>60.6</td>\n",
       "      <td>73.1</td>\n",
       "      <td>61.1</td>\n",
       "      <td>68.0</td>\n",
       "      <td>2015</td>\n",
       "    </tr>\n",
       "    <tr>\n",
       "      <th>4400</th>\n",
       "      <td>4</td>\n",
       "      <td>University of California, Berkeley</td>\n",
       "      <td>4</td>\n",
       "      <td>69.6</td>\n",
       "      <td>65.1</td>\n",
       "      <td>79.4</td>\n",
       "      <td>66.1</td>\n",
       "      <td>65.6</td>\n",
       "      <td>67.9</td>\n",
       "      <td>56.5</td>\n",
       "      <td>2015</td>\n",
       "    </tr>\n",
       "    <tr>\n",
       "      <th>4401</th>\n",
       "      <td>5</td>\n",
       "      <td>University of Cambridge</td>\n",
       "      <td>1</td>\n",
       "      <td>68.8</td>\n",
       "      <td>77.1</td>\n",
       "      <td>96.6</td>\n",
       "      <td>50.8</td>\n",
       "      <td>55.6</td>\n",
       "      <td>66.4</td>\n",
       "      <td>55.8</td>\n",
       "      <td>2015</td>\n",
       "    </tr>\n",
       "  </tbody>\n",
       "</table>\n",
       "</div>"
      ],
      "text/plain": [
       "     world_rank                              university_name national_rank  \\\n",
       "4397          1                           Harvard University             1   \n",
       "4398          2                          Stanford University             2   \n",
       "4399          3  Massachusetts Institute of Technology (MIT)             3   \n",
       "4400          4           University of California, Berkeley             4   \n",
       "4401          5                      University of Cambridge             1   \n",
       "\n",
       "      total_score  alumni  award   hici     ns    pub   pcp  year  \n",
       "4397        100.0   100.0  100.0  100.0  100.0  100.0  76.6  2015  \n",
       "4398         73.3    40.7   89.6   80.1   70.1   70.6  53.8  2015  \n",
       "4399         70.4    68.2   80.7   60.6   73.1   61.1  68.0  2015  \n",
       "4400         69.6    65.1   79.4   66.1   65.6   67.9  56.5  2015  \n",
       "4401         68.8    77.1   96.6   50.8   55.6   66.4  55.8  2015  "
      ]
     },
     "execution_count": 2,
     "metadata": {},
     "output_type": "execute_result"
    }
   ],
   "source": [
    "shanghai_rank = pd.read_csv('datasets/shanghaiData.csv')\n",
    "shanghai_rank = shanghai_rank[shanghai_rank['year'] == 2015]\n",
    "shanghai_rank.head()"
   ]
  },
  {
   "cell_type": "markdown",
   "metadata": {},
   "source": [
    "Заполним отсутствующие значения числом 0."
   ]
  },
  {
   "cell_type": "code",
   "execution_count": 68,
   "metadata": {
    "collapsed": true
   },
   "outputs": [],
   "source": [
    "shanghai_rank.fillna(0.0, inplace=True)"
   ]
  },
  {
   "cell_type": "markdown",
   "metadata": {},
   "source": [
    "Целью задачи регрессии в данном случае &mdash; предсказать значение колонки *total_score* на основании других **числовых** колонок, за исключением *world_rank* и *year*.\n",
    "\n",
    "Разобьем всё множество данных на тестовое и обучающее. Отведём на тестовое множество 25% всех данных."
   ]
  },
  {
   "cell_type": "code",
   "execution_count": 67,
   "metadata": {
    "collapsed": false
   },
   "outputs": [],
   "source": [
    "SEED = 42\n",
    "from sklearn.model_selection import train_test_split\n",
    "train, test = train_test_split(shanghai_rank, test_size=0.25, random_state=SEED)"
   ]
  },
  {
   "cell_type": "markdown",
   "metadata": {},
   "source": [
    "Выберем колонки, которые будут использованы для решения задачи регрессии и создадим массивы, которые будут использованы для обучения."
   ]
  },
  {
   "cell_type": "code",
   "execution_count": 69,
   "metadata": {
    "collapsed": false
   },
   "outputs": [],
   "source": [
    "cols = ['alumni', 'award', 'hici', 'ns', 'pub', 'pcp']\n",
    "\n",
    "train_data = np.array(train[cols])\n",
    "test_data  = np.array(test[cols])\n",
    "\n",
    "train_target = np.array(train['total_score'])\n",
    "test_target = np.array(test['total_score'])"
   ]
  },
  {
   "cell_type": "markdown",
   "metadata": {},
   "source": [
    "В качестве примера для решения задачи регрессии выберем просетйший метод &mdash; метод линейной регрессии"
   ]
  },
  {
   "cell_type": "code",
   "execution_count": 84,
   "metadata": {
    "collapsed": false
   },
   "outputs": [],
   "source": [
    "from sklearn.linear_model import LinearRegression, ElasticNet\n",
    "lr = ElasticNet(alpha=0.4, l1_ratio=0.13)"
   ]
  },
  {
   "cell_type": "markdown",
   "metadata": {},
   "source": [
    "Обучим модель на множестве обучающих данных."
   ]
  },
  {
   "cell_type": "code",
   "execution_count": 85,
   "metadata": {
    "collapsed": false
   },
   "outputs": [
    {
     "data": {
      "text/plain": [
       "ElasticNet(alpha=0.4, copy_X=True, fit_intercept=True, l1_ratio=0.13,\n",
       "      max_iter=1000, normalize=False, positive=False, precompute=False,\n",
       "      random_state=None, selection='cyclic', tol=0.0001, warm_start=False)"
      ]
     },
     "execution_count": 85,
     "metadata": {},
     "output_type": "execute_result"
    }
   ],
   "source": [
    "lr.fit(train_data, train_target)"
   ]
  },
  {
   "cell_type": "markdown",
   "metadata": {},
   "source": [
    "Проверим качество регрессии на тестовом множестве."
   ]
  },
  {
   "cell_type": "code",
   "execution_count": 86,
   "metadata": {
    "collapsed": false
   },
   "outputs": [],
   "source": [
    "prediction = lr.predict(test_data)"
   ]
  },
  {
   "cell_type": "markdown",
   "metadata": {},
   "source": [
    "Среднеквадратическое отклонение предсказанного значения от реального:"
   ]
  },
  {
   "cell_type": "code",
   "execution_count": 87,
   "metadata": {
    "collapsed": false
   },
   "outputs": [
    {
     "name": "stdout",
     "output_type": "stream",
     "text": [
      "38.5662016495\n"
     ]
    }
   ],
   "source": [
    "dist = np.mean((prediction - test_target) ** 2)\n",
    "print(dist)"
   ]
  },
  {
   "cell_type": "markdown",
   "metadata": {},
   "source": [
    "Графически можно сравнить предсказания и реальные значения так:"
   ]
  },
  {
   "cell_type": "code",
   "execution_count": 74,
   "metadata": {
    "collapsed": false
   },
   "outputs": [
    {
     "data": {
      "text/plain": [
       "<matplotlib.text.Text at 0xcb50f60>"
      ]
     },
     "execution_count": 74,
     "metadata": {},
     "output_type": "execute_result"
    },
    {
     "data": {
      "image/png": "[encoded data removed]",
      "text/plain": [
       "<matplotlib.figure.Figure at 0xc3f6be0>"
      ]
     },
     "metadata": {},
     "output_type": "display_data"
    }
   ],
   "source": [
    "%matplotlib inline\n",
    "import matplotlib.pyplot as plt\n",
    "\n",
    "x, y = zip(*sorted(zip(prediction, test_target)))\n",
    "\n",
    "plt.plot(x, y)\n",
    "plt.hold(True)\n",
    "plt.plot([0, 100], [0, 100], '--r')\n",
    "plt.xlabel('Prediction')\n",
    "plt.ylabel('Real values')"
   ]
  },
  {
   "cell_type": "markdown",
   "metadata": {},
   "source": [
    "В идеале все значения лежали бы на прямой $y=x$."
   ]
  },
  {
   "cell_type": "markdown",
   "metadata": {},
   "source": [
    "Ваша задача &mdash; улучшить результат. Баллы за лабораторную работу будут вычисляться как \n",
    "\n",
    "$$M = \\left\\lceil{\\min\\left(10 \\left(38.57 - \\frac{1}{N}\\sum_{i=1}^{N}(y_i - \\hat{y}_i)^2\\right), 10 \\right)}\\right\\rceil$$"
   ]
  },
  {
   "cell_type": "code",
   "execution_count": 75,
   "metadata": {
    "collapsed": false
   },
   "outputs": [
    {
     "name": "stdout",
     "output_type": "stream",
     "text": [
      "Количество баллов = 0.020664809871298928\n"
     ]
    }
   ],
   "source": [
    "print(\"Количество баллов = {}\".format(np.min([38.57 - dist, 10])))"
   ]
  },
  {
   "cell_type": "markdown",
   "metadata": {},
   "source": [
    "Для этого можно использовать **любые** методы из библиотеки *sklearn*. Переменную *SEED* менять нельзя."
   ]
  },
  {
   "cell_type": "markdown",
   "metadata": {
    "collapsed": true
   },
   "source": [
    "## Содержание отчета\n",
    "\n",
    "Отчет должен представлять собой готовый Jupyter Notebook с комментариями и пояснениями."
   ]
  }
 ],
 "metadata": {
  "kernelspec": {
   "display_name": "Python 3",
   "language": "python",
   "name": "python3"
  },
  "language_info": {
   "codemirror_mode": {
    "name": "ipython",
    "version": 3
   },
   "file_extension": ".py",
   "mimetype": "text/x-python",
   "name": "python",
   "nbconvert_exporter": "python",
   "pygments_lexer": "ipython3",
   "version": "3.5.2"
  }
 },
 "nbformat": 4,
 "nbformat_minor": 0
}
